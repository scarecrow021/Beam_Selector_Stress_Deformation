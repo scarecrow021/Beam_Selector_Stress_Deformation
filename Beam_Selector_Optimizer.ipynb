{
  "cells": [
    {
      "cell_type": "markdown",
      "metadata": {
        "id": "view-in-github",
        "colab_type": "text"
      },
      "source": [
        "<a href=\"https://colab.research.google.com/github/scarecrow021/Beam_Selector_Stress_Deformation/blob/main/Beam_Selector_Optimizer.ipynb\" target=\"_parent\"><img src=\"https://colab.research.google.com/assets/colab-badge.svg\" alt=\"Open In Colab\"/></a>"
      ]
    },
    {
      "cell_type": "code",
      "source": [
        "from google.colab import files\n",
        "import urllib.request\n",
        "url = 'https://github.com/scarecrow021/Beam_Selector_Stress_Deformation/blob/main/beamLibrary.xlsx'\n",
        "urllib.request.urlretrieve(url, '/content/beamLibrary.xlsx')\n",
        "\n",
        "#import os\n",
        "#if os.path.isfile('/content/beamLibrary.xlsx'):\n",
        "#    print(\"File Exists! Carry on\")\n",
        "#else:\n",
        "#    beamLibFile = files.upload('https://github.com/scarecrow021/Beam_Selector_Stress_Deformation/blob/main/beamLibrary.xlsx')"
      ],
      "metadata": {
        "id": "H2XSWnHr4OkF",
        "outputId": "695f7ff5-7efb-41c1-ec40-87e4890b4f18",
        "colab": {
          "base_uri": "https://localhost:8080/"
        }
      },
      "execution_count": 74,
      "outputs": [
        {
          "output_type": "execute_result",
          "data": {
            "text/plain": [
              "('/content/beamLibrary.xlsx', <http.client.HTTPMessage at 0x7f7acb6346d0>)"
            ]
          },
          "metadata": {},
          "execution_count": 74
        }
      ]
    },
    {
      "cell_type": "markdown",
      "metadata": {
        "id": "rp0vSKU2UhaE"
      },
      "source": [
        "## Back End"
      ]
    },
    {
      "cell_type": "markdown",
      "metadata": {
        "id": "mcZYxwuNVp5K"
      },
      "source": [
        "### Library Import"
      ]
    },
    {
      "cell_type": "code",
      "execution_count": 63,
      "metadata": {
        "id": "bs4VHeZ7BgvK"
      },
      "outputs": [],
      "source": [
        "import pandas as pd\n",
        "\n"
      ]
    },
    {
      "cell_type": "markdown",
      "metadata": {
        "id": "YxQAXHVMpNou"
      },
      "source": [
        "### Function Definitions\n"
      ]
    },
    {
      "cell_type": "markdown",
      "metadata": {
        "id": "qKKphFw0Kn1_"
      },
      "source": [
        "#### Deformation Limit Functions"
      ]
    },
    {
      "cell_type": "markdown",
      "metadata": {
        "id": "L1kUzCArKf0Q"
      },
      "source": [
        "#### Stress Limit Functions"
      ]
    },
    {
      "cell_type": "code",
      "execution_count": 64,
      "metadata": {
        "id": "1pptGGOiM1Ev"
      },
      "outputs": [],
      "source": [
        "## Stress Limit Common Functions Definitions\n",
        "\n",
        "def findStress(M, h, I):                         # Be careful ymax is not h/2 here as in Excel. That is why it is divided by 2 in the formula.\n",
        "    _stress = (M*(h/(2*1000)))/((I*10**-8)*10**6)\n",
        "    return _stress\n",
        "\n",
        "\n",
        "def stressLimitCheck(stressLimit, result, M, beamLib, Iy_columNum, _yes= False, hDim_columNum=1):\n",
        "    for h in range(0,len(beamLib.index)):\n",
        "                Stress = findStress(M, beamLib.iat[h,hDim_columNum], beamLib.iat[h,Iy_columNum])\n",
        "                if Stress < stressLimit:\n",
        "                    if not _yes:\n",
        "                        result.append(beamLib.columns[0] + \" \" + str(beamLib.iat[h,1]) + \" ...  Stress: \" + str(round(Stress,2)) + \" MPa.\")\n",
        "                    else:\n",
        "                        result.append(beamLib.columns[0] + \" \" + str(beamLib.iat[h,0]) + \" ...  Stress: \" + str(round(Stress,2)) + \" MPa.\")\n",
        "                    break\n",
        "\n",
        "\n",
        "def stressLimitCheckLooper(M, result, stressLimit):\n",
        "    for libNum in range(0,14):\n",
        "        beamLib = pd.read_excel('/content/beamLibrary.xlsx', libNum)\n",
        "        if libNum in [8,13,14]:\n",
        "            stressLimitCheck(stressLimit, result, M, beamLib, 5, True)\n",
        "        elif libNum == 12:\n",
        "            stressLimitCheck(stressLimit, result, M, beamLib, 4, True)\n",
        "        elif libNum in [7,9,10,11]:\n",
        "            stressLimitCheck(stressLimit, result, M, beamLib, 3, True)\n",
        "        elif libNum in range(0,7):\n",
        "            stressLimitCheck(stressLimit, result, M, beamLib, 6)\n",
        "    return result\n",
        "\n",
        "#----------------------------------------------------------------------------------------------------------------------------------------------#\n",
        "\n",
        "## All Case Stress Limit Functions Defitions\n",
        "\n",
        "# The stress formula is same in all cases: M*y/I\n",
        "# Since the bending moment is different for all cases, it is best to calculate \n",
        "# the bending moment in the function here and input it to the called function.\n",
        "\n",
        "def case1_stress(stressLimit):\n",
        "    M = force*lengthOfBeam/4 # Bending Moment\n",
        "    result = [\"You selected Case 1, Stress Limit\", \"The minimum required beam and the stress are: \"] # Result String Array\n",
        "    _result = stressLimitCheckLooper(M, result, stressLimit)\n",
        "    return _result\n",
        "\n",
        "def case2_stress(stressLimit):\n",
        "    M = force*lengthOfBeam # Bending Moment\n",
        "    result = [\"You selected Case 2, Stress Limit\", \"The minimum required beam and the stress are: \"] # Result String Array\n",
        "    _result = stressLimitCheckLooper(M, result, stressLimit)\n",
        "    return _result\n",
        "\n",
        "def case3_stress(stressLimit):\n",
        "    M = force*lengthOfBeam/8 # Bending Moment\n",
        "    result = [\"You selected Case 2, Stress Limit\", \"The minimum required beam and the stress are: \"] # Result String Array\n",
        "    _result = stressLimitCheckLooper(M, result, stressLimit)\n",
        "    return _result\n",
        "\n",
        "def case4_stress(stressLimit):\n",
        "    M = torque # Bending Moment\n",
        "    result = [\"You selected Case 2, Stress Limit\", \"The minimum required beam and the stress are: \"] # Result String Array\n",
        "    _result = stressLimitCheckLooper(M, result, stressLimit)\n",
        "    return _result\n",
        "\n",
        "def case5_stress(stressLimit):\n",
        "    M = torque # Bending Moment\n",
        "    result = [\"You selected Case 2, Stress Limit\", \"The minimum required beam and the stress are: \"] # Result String Array\n",
        "    _result = stressLimitCheckLooper(M, result, stressLimit)\n",
        "    return _result\n",
        "\n",
        "def case6_stress(stressLimit, length_a):\n",
        "    M = force*length_a # Bending Moment\n",
        "    result = [\"You selected Case 2, Stress Limit\", \"The minimum required beam and the stress are: \"] # Result String Array\n",
        "    _result = stressLimitCheckLooper(M, result, stressLimit)\n",
        "    return _result\n",
        "\n",
        "def case7_stress(stressLimit, lengthOfBeam, length_b):\n",
        "    M = force*(lengthOfBeam - length_b)*length_b/lengthOfBeam # Bending Moment\n",
        "    result = [\"You selected Case 2, Stress Limit\", \"The minimum required beam and the stress are: \"] # Result String Array\n",
        "    _result = stressLimitCheckLooper(M, result, stressLimit)\n",
        "    return _result"
      ]
    },
    {
      "cell_type": "markdown",
      "metadata": {
        "id": "uFy0w0-ESWnV"
      },
      "source": [
        "# **Input Form** "
      ]
    },
    {
      "cell_type": "code",
      "execution_count": 65,
      "metadata": {
        "cellView": "form",
        "id": "jEqQo2kHSWPy"
      },
      "outputs": [],
      "source": [
        "caseNumber = 1 #@param ['1', '2', '3', '4', '5', '6', '7', '8', '9', '10', '11', '12', '13', '14'] {type:\"raw\"}\n",
        "checkFor = \"Stress\" #@param [\"Stress\", \"Deformation\"]\n",
        "force =  1000#@param {type:\"number\"}\n",
        "torque = 0 #@param {type:\"number\"}\n",
        "lengthOfBeam =  4#@param {type:\"number\"}\n",
        "length_a = 0 #@param {type:\"number\"}\n",
        "length_b = 0 #@param {type:\"number\"}\n",
        "length_c = 0 #@param {type:\"number\"}\n",
        "youngsModulus = 203 #@param {type:\"number\"}\n",
        "stressLimit =  200#@param {type:\"number\"}\n",
        "deformationLimit = 0 #@param {type:\"number\"}\n"
      ]
    },
    {
      "cell_type": "markdown",
      "metadata": {
        "id": "wQp8nTL4p_HC"
      },
      "source": [
        "# Interface"
      ]
    },
    {
      "cell_type": "code",
      "execution_count": 66,
      "metadata": {
        "id": "45Tdo4wpogI2"
      },
      "outputs": [],
      "source": [
        "def caseOne():\n",
        "    if checkFor == \"Stress\": _result = case1_stress(stressLimit)\n",
        "    return _result\n",
        "\n",
        "def caseTwo():\n",
        "    if checkFor == \"Stress\": _result = case2_stress(stressLimit)\n",
        "    return _result\n",
        "\n",
        "def caseCaller():\n",
        "    \n",
        "    if caseNumber == 1:\n",
        "        _result = caseOne()\n",
        "    elif caseNumber == 2:\n",
        "        _result = caseTwo()\n",
        "    else:\n",
        "        _result = \"Invalid\"\n",
        "    return _result\n"
      ]
    },
    {
      "cell_type": "markdown",
      "metadata": {
        "id": "5vIvVh32UsVs"
      },
      "source": [
        "# **RESULT**"
      ]
    },
    {
      "cell_type": "code",
      "execution_count": 67,
      "metadata": {
        "colab": {
          "base_uri": "https://localhost:8080/"
        },
        "id": "_moS-7VzU1rd",
        "outputId": "62ba1f06-f93f-4724-b11a-c1b81e30b8e4"
      },
      "outputs": [
        {
          "output_type": "stream",
          "name": "stdout",
          "text": [
            "You selected Case 1, Stress Limit\n",
            "The minimum required beam and the stress are: \n",
            "HEB 100 ...  Stress: 11.12 MPa.\n",
            "HEA 96 ...  Stress: 13.75 MPa.\n",
            "HEM 120 ...  Stress: 5.25 MPa.\n",
            "IPE 80 ...  Stress: 49.94 MPa.\n",
            "IPN 80 ...  Stress: 51.41 MPa.\n",
            "UPE 80 ...  Stress: 37.38 MPa.\n",
            "UPN 40 ...  Stress: 141.84 MPa.\n",
            "Equal L L 140 x 140 x 18 ...  Stress: 188.17 MPa.\n",
            "Unequal L L 120 x 80 x 8 ...  Stress: 26.58 MPa.\n",
            "Square Tube CF 1997 40 x 4 ...  Stress: 180.18 MPa.\n",
            "Square Tube HF 1997 40 x 3.2 ...  Stress: 196.08 MPa.\n",
            "Square Tube HF 2006 50 x 10 ...  Stress: 198.41 MPa.\n",
            "Circular Tube 48.3 x 4 ...  Stress: 175.0 MPa.\n",
            "Rectangular Tube CF 50 x 30 x 3 ...  Stress: 194.86 MPa.\n"
          ]
        }
      ],
      "source": [
        "result = caseCaller()\n",
        "print(*result,sep='\\n')"
      ]
    }
  ],
  "metadata": {
    "colab": {
      "collapsed_sections": [],
      "name": "Untitled0.ipynb",
      "provenance": [],
      "include_colab_link": true
    },
    "kernelspec": {
      "display_name": "Python 3",
      "name": "python3"
    },
    "language_info": {
      "name": "python"
    }
  },
  "nbformat": 4,
  "nbformat_minor": 0
}
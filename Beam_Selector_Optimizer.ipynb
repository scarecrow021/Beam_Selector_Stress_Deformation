{
  "nbformat": 4,
  "nbformat_minor": 0,
  "metadata": {
    "colab": {
      "name": "Untitled0.ipynb",
      "provenance": [],
      "collapsed_sections": [],
      "authorship_tag": "ABX9TyMbjplVoAEf3x7Oq0HDJGyu",
      "include_colab_link": true
    },
    "kernelspec": {
      "name": "python3",
      "display_name": "Python 3"
    },
    "language_info": {
      "name": "python"
    }
  },
  "cells": [
    {
      "cell_type": "markdown",
      "metadata": {
        "id": "view-in-github",
        "colab_type": "text"
      },
      "source": [
        "<a href=\"https://colab.research.google.com/github/scarecrow021/Beam_Selector_Stress_Deformation/blob/main/Beam_Selector_Optimizer.ipynb\" target=\"_parent\"><img src=\"https://colab.research.google.com/assets/colab-badge.svg\" alt=\"Open In Colab\"/></a>"
      ]
    },
    {
      "cell_type": "markdown",
      "source": [
        "## Back End"
      ],
      "metadata": {
        "id": "rp0vSKU2UhaE"
      }
    },
    {
      "cell_type": "markdown",
      "source": [
        "### Library Import"
      ],
      "metadata": {
        "id": "mcZYxwuNVp5K"
      }
    },
    {
      "cell_type": "code",
      "execution_count": null,
      "metadata": {
        "id": "bs4VHeZ7BgvK"
      },
      "outputs": [],
      "source": [
        "import pandas as pd"
      ]
    },
    {
      "cell_type": "markdown",
      "source": [
        "### Function Definitions\n"
      ],
      "metadata": {
        "id": "YxQAXHVMpNou"
      }
    },
    {
      "cell_type": "markdown",
      "source": [
        "#### Deformation Limit Functions"
      ],
      "metadata": {
        "id": "qKKphFw0Kn1_"
      }
    },
    {
      "cell_type": "markdown",
      "source": [
        "#### Stress Limit Functions"
      ],
      "metadata": {
        "id": "L1kUzCArKf0Q"
      }
    },
    {
      "cell_type": "code",
      "source": [
        "def findStress(M, ):\n",
        "    print(\"Hello\")\n"
      ],
      "metadata": {
        "id": "ojtKOBiUPGNq"
      },
      "execution_count": null,
      "outputs": []
    },
    {
      "cell_type": "markdown",
      "source": [
        "##### Stress Limit Check Function"
      ],
      "metadata": {
        "id": "S0TDKjWnMttK"
      }
    },
    {
      "cell_type": "code",
      "source": [
        "def stressLimitCheck(M, result):\n",
        "    for libNum in range(0,14):\n",
        "        beamLib = pd.read_excel('/content/beamLibrary.xlsx', libNum)\n",
        "        if libNum == 8 or libNum == 13 or libNum == 14:\n",
        "            for h in range(0,len(beamLib.index)-1):\n",
        "                Stress = (M*(beamLib.iat[h,1]/2000))/((beamLib.iat[h,5]*10**-8)*10**6)\n",
        "                if Stress < stressLimit:\n",
        "                    result.append(beamLib.columns[0] + \" \" + str(beamLib.iat[h,1]) + \" ...  Stress: \" + str(round(Stress,2)) + \" MPa.\")\n",
        "                    break\n",
        "\n",
        "        elif libNum == 12:\n",
        "            for h in range(0,len(beamLib.index)-1):\n",
        "                Stress = (M*(beamLib.iat[h,1]/2000))/((beamLib.iat[h,4]*10**-8)*10**6)\n",
        "                if Stress < stressLimit:\n",
        "                    result.append(beamLib.columns[0] + \" \" + str(beamLib.iat[h,1]) + \" ...  Stress: \" + str(round(Stress,2)) + \" MPa.\")\n",
        "                    break\n",
        "    \n",
        "        elif libNum == 7 or libNum == 9 or libNum == 10 or libNum == 11:\n",
        "            for h in range(0,len(beamLib.index)-1):\n",
        "                Stress = (M*(beamLib.iat[h,1]/2000))/((beamLib.iat[h,3]*10**-8)*10**6)\n",
        "                if Stress < stressLimit:\n",
        "                    result.append(beamLib.columns[0] + \" \" + str(beamLib.iat[h,1]) + \" ...  Stress: \" + str(round(Stress,2)) + \" MPa.\")\n",
        "                    break\n",
        "        \n",
        "        elif libNum == 0 or libNum == 1 or libNum == 2 or libNum == 3 or libNum == 4 or libNum == 5 or libNum == 6:\n",
        "            for h in range(0,len(beamLib.index)-1):\n",
        "                Stress = (M*(beamLib.iat[h,1]/2000))/((beamLib.iat[h,6]*10**-8)*10**6)\n",
        "                if Stress < stressLimit:\n",
        "                    result.append(beamLib.columns[0] + \" \" + str(beamLib.iat[h,0]) + \" ...  Stress: \" + str(round(Stress,2)) + \" MPa.\")\n",
        "                    break\n",
        "    return result"
      ],
      "metadata": {
        "id": "1pptGGOiM1Ev"
      },
      "execution_count": null,
      "outputs": []
    },
    {
      "cell_type": "markdown",
      "source": [
        "##### Case 1: Stress Limit"
      ],
      "metadata": {
        "id": "HVDN9i3zKWeo"
      }
    },
    {
      "cell_type": "code",
      "source": [
        "def case1_stress():\n",
        "    M = force*lengthOfBeam/4 # Bending Moment\n",
        "    result = [\"You selected Case 1, Stress Limit\", \"The minimum required beam and the stress are: \"] # Result String Array\n",
        "    _result = stressLimitCheck(M, result)\n",
        "    return _result"
      ],
      "metadata": {
        "id": "pjAqk2_ALKvh"
      },
      "execution_count": null,
      "outputs": []
    },
    {
      "cell_type": "markdown",
      "source": [
        "##### Case 2: Stress Limit"
      ],
      "metadata": {
        "id": "uF0Pg2n2pTx2"
      }
    },
    {
      "cell_type": "code",
      "source": [
        "def case2_stress():\n",
        "    M = force*lengthOfBeam # Bending Moment\n",
        "    result = [\"You selected Case 2, Stress Limit\", \"The minimum required beam and the stress are: \"] # Result String Array\n",
        "    _result = stressLimitCheck(M, result)\n",
        "    return _result"
      ],
      "metadata": {
        "id": "o8y9yYziJt4Y"
      },
      "execution_count": null,
      "outputs": []
    },
    {
      "cell_type": "markdown",
      "source": [
        "# **Input Form** "
      ],
      "metadata": {
        "id": "uFy0w0-ESWnV"
      }
    },
    {
      "cell_type": "code",
      "source": [
        "caseNumber = 2 #@param [\"1\", \"2\"] {type:\"raw\"}\n",
        "checkFor = \"Stress\" #@param [\"Stress\", \"Deformation\"]\n",
        "force =  50000#@param {type:\"number\"}\n",
        "lengthOfBeam =  5#@param {type:\"number\"}\n",
        "length_a = 0 #@param {type:\"number\"}\n",
        "length_b = 0 #@param {type:\"number\"}\n",
        "length_c = 0 #@param {type:\"number\"}\n",
        "youngsModulus = 203 #@param {type:\"number\"}\n",
        "stressLimit = 190 #@param {type:\"number\"}\n",
        "deformationLimit = 0 #@param {type:\"number\"}\n"
      ],
      "metadata": {
        "id": "jEqQo2kHSWPy",
        "cellView": "form"
      },
      "execution_count": null,
      "outputs": []
    },
    {
      "cell_type": "markdown",
      "source": [
        "# Interface"
      ],
      "metadata": {
        "id": "wQp8nTL4p_HC"
      }
    },
    {
      "cell_type": "code",
      "source": [
        "if (caseNumber == 2):\n",
        "    if(checkFor == \"Stress\"):\n",
        "        result = case2_stress()\n",
        "        \n"
      ],
      "metadata": {
        "id": "45Tdo4wpogI2"
      },
      "execution_count": null,
      "outputs": []
    },
    {
      "cell_type": "markdown",
      "source": [
        "# **RESULT**"
      ],
      "metadata": {
        "id": "5vIvVh32UsVs"
      }
    },
    {
      "cell_type": "code",
      "source": [
        "print(*result,sep='\\n')"
      ],
      "metadata": {
        "id": "_moS-7VzU1rd",
        "colab": {
          "base_uri": "https://localhost:8080/"
        },
        "outputId": "92cd3641-867d-4773-a9f2-4075084c2fa3"
      },
      "execution_count": null,
      "outputs": [
        {
          "output_type": "stream",
          "name": "stdout",
          "text": [
            "You selected Case 2, Stress Limit\n",
            "The minimum required beam and the stress are: \n",
            "HEB 280 ...  Stress: 181.63 MPa.\n",
            "HEA 320 ...  Stress: 168.99 MPa.\n",
            "HEM 240 ...  Stress: 138.95 MPa.\n",
            "IPE 450 ...  Stress: 166.72 MPa.\n",
            "IPN 400 ...  Stress: 171.17 MPa.\n",
            "Square Tube CF 1997 300 ...  Stress: 169.87 MPa.\n",
            "Square Tube HF 1997 300 ...  Stress: 157.23 MPa.\n",
            "Circular Tube 323.9 ...  Stress: 182.87 MPa.\n"
          ]
        }
      ]
    }
  ]
}
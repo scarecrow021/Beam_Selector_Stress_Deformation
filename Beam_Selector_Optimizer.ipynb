{
  "cells": [
    {
      "cell_type": "markdown",
      "metadata": {
        "id": "view-in-github",
        "colab_type": "text"
      },
      "source": [
        "<a href=\"https://colab.research.google.com/github/scarecrow021/Beam_Selector_Stress_Deformation/blob/main/Beam_Selector_Optimizer.ipynb\" target=\"_parent\"><img src=\"https://colab.research.google.com/assets/colab-badge.svg\" alt=\"Open In Colab\"/></a>"
      ]
    },
    {
      "cell_type": "markdown",
      "metadata": {
        "id": "rp0vSKU2UhaE"
      },
      "source": [
        "## Back End"
      ]
    },
    {
      "cell_type": "markdown",
      "metadata": {
        "id": "mcZYxwuNVp5K"
      },
      "source": [
        "### Library Import"
      ]
    },
    {
      "cell_type": "code",
      "execution_count": 43,
      "metadata": {
        "id": "bs4VHeZ7BgvK"
      },
      "outputs": [],
      "source": [
        "import pandas as pd"
      ]
    },
    {
      "cell_type": "markdown",
      "metadata": {
        "id": "YxQAXHVMpNou"
      },
      "source": [
        "### Function Definitions\n"
      ]
    },
    {
      "cell_type": "markdown",
      "metadata": {
        "id": "qKKphFw0Kn1_"
      },
      "source": [
        "#### Deformation Limit Functions"
      ]
    },
    {
      "cell_type": "markdown",
      "metadata": {
        "id": "L1kUzCArKf0Q"
      },
      "source": [
        "#### Stress Limit Functions"
      ]
    },
    {
      "cell_type": "markdown",
      "metadata": {
        "id": "S0TDKjWnMttK"
      },
      "source": [
        "##### Stress Limit Check Function"
      ]
    },
    {
      "cell_type": "code",
      "execution_count": 44,
      "metadata": {
        "id": "1pptGGOiM1Ev"
      },
      "outputs": [],
      "source": [
        "def findStress(M, h, I):                         # Be careful ymax is not h/2 here as in Excel. That is why it is divided by 2 in the formula.\n",
        "    _stress = (M*(h/(2*1000)))/((I*10**-8)*10**6)\n",
        "    return _stress\n",
        "\n",
        "\n",
        "def stressLimitCheck(stressLimit, result, M, beamLib, Iy_columNum, _yes= False, hDim_columNum=1):\n",
        "    for h in range(0,len(beamLib.index)):\n",
        "                Stress = findStress(M, beamLib.iat[h,hDim_columNum], beamLib.iat[h,Iy_columNum])\n",
        "                if Stress < stressLimit:\n",
        "                    if not _yes:\n",
        "                        result.append(beamLib.columns[0] + \" \" + str(beamLib.iat[h,1]) + \" ...  Stress: \" + str(round(Stress,2)) + \" MPa.\")\n",
        "                    else:\n",
        "                        result.append(beamLib.columns[0] + \" \" + str(beamLib.iat[h,0]) + \" ...  Stress: \" + str(round(Stress,2)) + \" MPa.\")\n",
        "                    break\n",
        "\n",
        "\n",
        "def stressLimitCheckLooper(M, result, stressLimit):\n",
        "    for libNum in range(0,14):\n",
        "        beamLib = pd.read_excel('/content/Beam_Selector_Stress_Deformation/beamLibrary.xlsx', libNum)\n",
        "        if libNum == 8 or libNum == 13 or libNum == 14:\n",
        "            stressLimitCheck(stressLimit, result, M, beamLib, 5, True)\n",
        "        elif libNum == 12:\n",
        "            stressLimitCheck(stressLimit, result, M, beamLib, 4, True)\n",
        "        elif libNum == 7 or libNum == 9 or libNum == 10 or libNum == 11:\n",
        "            stressLimitCheck(stressLimit, result, M, beamLib, 3, True)\n",
        "        elif libNum == 0 or libNum == 1 or libNum == 2 or libNum == 3 or libNum == 4 or libNum == 5 or libNum == 6:\n",
        "            stressLimitCheck(stressLimit, result, M, beamLib, 6)\n",
        "    return result"
      ]
    },
    {
      "cell_type": "markdown",
      "metadata": {
        "id": "HVDN9i3zKWeo"
      },
      "source": [
        "##### Case 1: Stress Limit"
      ]
    },
    {
      "cell_type": "code",
      "execution_count": 45,
      "metadata": {
        "id": "pjAqk2_ALKvh"
      },
      "outputs": [],
      "source": [
        "def case1_stress():\n",
        "    M = force*lengthOfBeam/4 # Bending Moment\n",
        "    result = [\"You selected Case 1, Stress Limit\", \"The minimum required beam and the stress are: \"] # Result String Array\n",
        "    _result = stressLimitCheckLooper(M, result)\n",
        "    return _result"
      ]
    },
    {
      "cell_type": "markdown",
      "metadata": {
        "id": "uF0Pg2n2pTx2"
      },
      "source": [
        "##### Case 2: Stress Limit"
      ]
    },
    {
      "cell_type": "code",
      "execution_count": 46,
      "metadata": {
        "id": "o8y9yYziJt4Y"
      },
      "outputs": [],
      "source": [
        "def case2_stress(stressLimit):\n",
        "    M = force*lengthOfBeam # Bending Moment\n",
        "    result = [\"You selected Case 2, Stress Limit\", \"The minimum required beam and the stress are: \"] # Result String Array\n",
        "    _result = stressLimitCheckLooper(M, result, stressLimit)\n",
        "    return _result"
      ]
    },
    {
      "cell_type": "markdown",
      "metadata": {
        "id": "uFy0w0-ESWnV"
      },
      "source": [
        "# **Input Form** "
      ]
    },
    {
      "cell_type": "code",
      "execution_count": 47,
      "metadata": {
        "cellView": "form",
        "id": "jEqQo2kHSWPy"
      },
      "outputs": [],
      "source": [
        "caseNumber = 2 #@param [\"1\", \"2\"] {type:\"raw\"}\n",
        "checkFor = \"Stress\" #@param [\"Stress\", \"Deformation\"]\n",
        "force =  500#@param {type:\"number\"}\n",
        "lengthOfBeam =  3#@param {type:\"number\"}\n",
        "length_a = 0 #@param {type:\"number\"}\n",
        "length_b = 0 #@param {type:\"number\"}\n",
        "length_c = 0 #@param {type:\"number\"}\n",
        "youngsModulus = 203 #@param {type:\"number\"}\n",
        "stressLimit =  200#@param {type:\"number\"}\n",
        "deformationLimit = 0 #@param {type:\"number\"}\n"
      ]
    },
    {
      "cell_type": "markdown",
      "metadata": {
        "id": "wQp8nTL4p_HC"
      },
      "source": [
        "# Interface"
      ]
    },
    {
      "cell_type": "code",
      "execution_count": 48,
      "metadata": {
        "id": "45Tdo4wpogI2"
      },
      "outputs": [],
      "source": [
        "if (caseNumber == 2):\n",
        "    if(checkFor == \"Stress\"):\n",
        "        result = case2_stress(stressLimit)\n",
        "        \n"
      ]
    },
    {
      "cell_type": "markdown",
      "metadata": {
        "id": "5vIvVh32UsVs"
      },
      "source": [
        "# **RESULT**"
      ]
    },
    {
      "cell_type": "code",
      "execution_count": 49,
      "metadata": {
        "colab": {
          "base_uri": "https://localhost:8080/"
        },
        "id": "_moS-7VzU1rd",
        "outputId": "795fdedd-88ad-4f67-910f-a8f5bafb8503"
      },
      "outputs": [
        {
          "output_type": "stream",
          "name": "stdout",
          "text": [
            "You selected Case 2, Stress Limit\n",
            "The minimum required beam and the stress are: \n",
            "HEB 100 ...  Stress: 16.69 MPa.\n",
            "HEA 96 ...  Stress: 20.62 MPa.\n",
            "HEM 120 ...  Stress: 7.87 MPa.\n",
            "IPE 80 ...  Stress: 74.91 MPa.\n",
            "IPN 80 ...  Stress: 77.12 MPa.\n",
            "UPE 80 ...  Stress: 56.07 MPa.\n",
            "UPN 50 ...  Stress: 142.05 MPa.\n",
            "Equal L L 200 x 200 x 26 ...  Stress: 195.82 MPa.\n",
            "Unequal L L 120 x 80 x 8 ...  Stress: 39.88 MPa.\n",
            "Square Tube CF 1997 50 x 3 ...  Stress: 192.31 MPa.\n",
            "Square Tube HF 1997 50 x 3 ...  Stress: 185.64 MPa.\n",
            "Square Tube HF 2006 120 x 14.2 ...  Stress: 197.8 MPa.\n",
            "Circular Tube 60.3 x 3.2 ...  Stress: 192.45 MPa.\n",
            "Rectangular Tube CF 60 x 40 x 3 ...  Stress: 177.3 MPa.\n"
          ]
        }
      ],
      "source": [
        "print(*result,sep='\\n')"
      ]
    }
  ],
  "metadata": {
    "colab": {
      "collapsed_sections": [],
      "name": "Untitled0.ipynb",
      "provenance": [],
      "include_colab_link": true
    },
    "kernelspec": {
      "display_name": "Python 3",
      "name": "python3"
    },
    "language_info": {
      "name": "python"
    }
  },
  "nbformat": 4,
  "nbformat_minor": 0
}
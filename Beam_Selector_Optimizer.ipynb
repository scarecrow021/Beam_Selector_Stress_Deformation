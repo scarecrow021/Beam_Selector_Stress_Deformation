{
  "cells": [
    {
      "cell_type": "markdown",
      "metadata": {
        "colab_type": "text",
        "id": "view-in-github"
      },
      "source": [
        "<a href=\"https://colab.research.google.com/github/scarecrow021/Beam_Selector_Stress_Deformation/blob/main/Beam_Selector_Optimizer.ipynb\" target=\"_parent\"><img src=\"https://colab.research.google.com/assets/colab-badge.svg\" alt=\"Open In Colab\"/></a>"
      ]
    },
    {
      "cell_type": "markdown",
      "metadata": {
        "id": "rp0vSKU2UhaE"
      },
      "source": [
        "## Back End"
      ]
    },
    {
      "cell_type": "markdown",
      "metadata": {
        "id": "mcZYxwuNVp5K"
      },
      "source": [
        "### Library Import"
      ]
    },
    {
      "cell_type": "code",
      "execution_count": null,
      "metadata": {
        "id": "bs4VHeZ7BgvK"
      },
      "outputs": [],
      "source": [
        "import pandas as pd"
      ]
    },
    {
      "cell_type": "markdown",
      "metadata": {
        "id": "YxQAXHVMpNou"
      },
      "source": [
        "### Function Definitions\n"
      ]
    },
    {
      "cell_type": "markdown",
      "metadata": {
        "id": "qKKphFw0Kn1_"
      },
      "source": [
        "#### Deformation Limit Functions"
      ]
    },
    {
      "cell_type": "markdown",
      "metadata": {
        "id": "L1kUzCArKf0Q"
      },
      "source": [
        "#### Stress Limit Functions"
      ]
    },
    {
      "cell_type": "code",
      "execution_count": null,
      "metadata": {
        "id": "ojtKOBiUPGNq"
      },
      "outputs": [],
      "source": [
        "def findStress(M, h, I):                         # Be careful ymax is not h/2 here as in Excel. That is why it is divided by 2 in the formula.\n",
        "    _stress = (M*(h/(2*1000)))/((I*10**-8)*10**6)\n",
        "    return _stress\n"
      ]
    },
    {
      "cell_type": "markdown",
      "metadata": {
        "id": "S0TDKjWnMttK"
      },
      "source": [
        "##### Stress Limit Check Function"
      ]
    },
    {
      "cell_type": "code",
      "execution_count": null,
      "metadata": {
        "id": "1pptGGOiM1Ev"
      },
      "outputs": [],
      "source": [
        "def stressLimitCheckLooper(M, result):\n",
        "    for libNum in range(0,14):\n",
        "        beamLib = pd.read_excel('/content/Beam_Selector_Stress_Deformation/beamLibrary.xlsx', libNum)\n",
        "        if libNum == 8 or libNum == 13 or libNum == 14:\n",
        "            for h in range(0,len(beamLib.index)-1):\n",
        "                Stress = findStress(M, beamLib.iat[h,1], beamLib.iat[h,5])\n",
        "                if Stress < stressLimit:\n",
        "                    result.append(beamLib.columns[0] + \" \" + str(beamLib.iat[h,1]) + \" ...  Stress: \" + str(round(Stress,2)) + \" MPa.\")\n",
        "                    break\n",
        "\n",
        "        elif libNum == 12:\n",
        "            for h in range(0,len(beamLib.index)-1):\n",
        "                Stress = findStress(M, beamLib.iat[h,1], beamLib.iat[h,4])\n",
        "                if Stress < stressLimit:\n",
        "                    result.append(beamLib.columns[0] + \" \" + str(beamLib.iat[h,1]) + \" ...  Stress: \" + str(round(Stress,2)) + \" MPa.\")\n",
        "                    break\n",
        "    \n",
        "        elif libNum == 7 or libNum == 9 or libNum == 10 or libNum == 11:\n",
        "            for h in range(0,len(beamLib.index)-1):\n",
        "                Stress = findStress(M, beamLib.iat[h,1], beamLib.iat[h,3])\n",
        "                if Stress < stressLimit:\n",
        "                    result.append(beamLib.columns[0] + \" \" + str(beamLib.iat[h,1]) + \" ...  Stress: \" + str(round(Stress,2)) + \" MPa.\")\n",
        "                    break\n",
        "        \n",
        "        elif libNum == 0 or libNum == 1 or libNum == 2 or libNum == 3 or libNum == 4 or libNum == 5 or libNum == 6:\n",
        "            for h in range(0,len(beamLib.index)-1):\n",
        "                Stress = findStress(M, beamLib.iat[h,1], beamLib.iat[h,6])\n",
        "                if Stress < stressLimit:\n",
        "                    result.append(beamLib.columns[0] + \" \" + str(beamLib.iat[h,0]) + \" ...  Stress: \" + str(round(Stress,2)) + \" MPa.\")\n",
        "                    break\n",
        "    return result"
      ]
    },
    {
      "cell_type": "markdown",
      "metadata": {
        "id": "HVDN9i3zKWeo"
      },
      "source": [
        "##### Case 1: Stress Limit"
      ]
    },
    {
      "cell_type": "code",
      "execution_count": null,
      "metadata": {
        "id": "pjAqk2_ALKvh"
      },
      "outputs": [],
      "source": [
        "def case1_stress():\n",
        "    M = force*lengthOfBeam/4 # Bending Moment\n",
        "    result = [\"You selected Case 1, Stress Limit\", \"The minimum required beam and the stress are: \"] # Result String Array\n",
        "    _result = stressLimitCheckLooper(M, result)\n",
        "    return _result"
      ]
    },
    {
      "cell_type": "markdown",
      "metadata": {
        "id": "uF0Pg2n2pTx2"
      },
      "source": [
        "##### Case 2: Stress Limit"
      ]
    },
    {
      "cell_type": "code",
      "execution_count": null,
      "metadata": {
        "id": "o8y9yYziJt4Y"
      },
      "outputs": [],
      "source": [
        "def case2_stress():\n",
        "    M = force*lengthOfBeam # Bending Moment\n",
        "    result = [\"You selected Case 2, Stress Limit\", \"The minimum required beam and the stress are: \"] # Result String Array\n",
        "    _result = stressLimitCheckLooper(M, result)\n",
        "    return _result"
      ]
    },
    {
      "cell_type": "markdown",
      "metadata": {
        "id": "uFy0w0-ESWnV"
      },
      "source": [
        "# **Input Form** "
      ]
    },
    {
      "cell_type": "code",
      "execution_count": null,
      "metadata": {
        "cellView": "form",
        "id": "jEqQo2kHSWPy"
      },
      "outputs": [],
      "source": [
        "caseNumber = 2 #@param [\"1\", \"2\"] {type:\"raw\"}\n",
        "checkFor = \"Stress\" #@param [\"Stress\", \"Deformation\"]\n",
        "force =  50000#@param {type:\"number\"}\n",
        "lengthOfBeam =  5#@param {type:\"number\"}\n",
        "length_a = 0 #@param {type:\"number\"}\n",
        "length_b = 0 #@param {type:\"number\"}\n",
        "length_c = 0 #@param {type:\"number\"}\n",
        "youngsModulus = 203 #@param {type:\"number\"}\n",
        "stressLimit = 190 #@param {type:\"number\"}\n",
        "deformationLimit = 0 #@param {type:\"number\"}\n"
      ]
    },
    {
      "cell_type": "markdown",
      "metadata": {
        "id": "wQp8nTL4p_HC"
      },
      "source": [
        "# Interface"
      ]
    },
    {
      "cell_type": "code",
      "execution_count": null,
      "metadata": {
        "id": "45Tdo4wpogI2"
      },
      "outputs": [],
      "source": [
        "if (caseNumber == 2):\n",
        "    if(checkFor == \"Stress\"):\n",
        "        result = case2_stress()\n",
        "        \n"
      ]
    },
    {
      "cell_type": "markdown",
      "metadata": {
        "id": "5vIvVh32UsVs"
      },
      "source": [
        "# **RESULT**"
      ]
    },
    {
      "cell_type": "code",
      "execution_count": null,
      "metadata": {
        "colab": {
          "base_uri": "https://localhost:8080/"
        },
        "id": "_moS-7VzU1rd",
        "outputId": "92cd3641-867d-4773-a9f2-4075084c2fa3"
      },
      "outputs": [
        {
          "name": "stdout",
          "output_type": "stream",
          "text": [
            "You selected Case 2, Stress Limit\n",
            "The minimum required beam and the stress are: \n",
            "HEB 280 ...  Stress: 181.63 MPa.\n",
            "HEA 320 ...  Stress: 168.99 MPa.\n",
            "HEM 240 ...  Stress: 138.95 MPa.\n",
            "IPE 450 ...  Stress: 166.72 MPa.\n",
            "IPN 400 ...  Stress: 171.17 MPa.\n",
            "Square Tube CF 1997 300 ...  Stress: 169.87 MPa.\n",
            "Square Tube HF 1997 300 ...  Stress: 157.23 MPa.\n",
            "Circular Tube 323.9 ...  Stress: 182.87 MPa.\n"
          ]
        }
      ],
      "source": [
        "print(*result,sep='\\n')"
      ]
    }
  ],
  "metadata": {
    "colab": {
      "authorship_tag": "ABX9TyMbjplVoAEf3x7Oq0HDJGyu",
      "collapsed_sections": [],
      "include_colab_link": true,
      "name": "Untitled0.ipynb",
      "provenance": []
    },
    "kernelspec": {
      "display_name": "Python 3",
      "name": "python3"
    },
    "language_info": {
      "name": "python"
    }
  },
  "nbformat": 4,
  "nbformat_minor": 0
}

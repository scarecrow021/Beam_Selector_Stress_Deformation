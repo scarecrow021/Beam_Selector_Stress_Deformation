{
  "cells": [
    {
      "cell_type": "markdown",
      "metadata": {
        "id": "view-in-github",
        "colab_type": "text"
      },
      "source": [
        "<a href=\"https://colab.research.google.com/github/scarecrow021/Beam_Selector_Stress_Deformation/blob/main/Beam_Selector_Optimizer.ipynb\" target=\"_parent\"><img src=\"https://colab.research.google.com/assets/colab-badge.svg\" alt=\"Open In Colab\"/></a>"
      ]
    },
    {
      "cell_type": "markdown",
      "metadata": {
        "id": "uFy0w0-ESWnV"
      },
      "source": [
        "# **Input Form** "
      ]
    },
    {
      "cell_type": "code",
      "execution_count": 186,
      "metadata": {
        "cellView": "form",
        "id": "jEqQo2kHSWPy"
      },
      "outputs": [],
      "source": [
        "caseNumber = 1 #@param ['1', '2', '3', '4', '5', '6', '7', '8', '9', '10', '11', '12', '13', '14', '15', '-99'] {type:\"raw\"}\n",
        "checkFor = \"Stress\" #@param [\"Stress\", \"Deformation\", \"Debug\"]\n",
        "force =  150000#@param {type:\"number\"}\n",
        "torque = 0 #@param {type:\"number\"}\n",
        "lengthOfBeam =  17.4#@param {type:\"number\"}\n",
        "length_a = 0 #@param {type:\"number\"}\n",
        "length_b =  5#@param {type:\"number\"}\n",
        "length_c = 0 #@param {type:\"number\"}\n",
        "length_L = 0 #@param {type:\"number\"}\n",
        "youngsModulus = 210 #@param {type:\"number\"}\n",
        "stressLimit =  200#@param {type:\"number\"}\n",
        "deformationLimit =  29#@param {type:\"number\"}\n"
      ]
    },
    {
      "cell_type": "markdown",
      "metadata": {
        "id": "rp0vSKU2UhaE"
      },
      "source": [
        "# Back End"
      ]
    },
    {
      "cell_type": "markdown",
      "metadata": {
        "id": "mcZYxwuNVp5K"
      },
      "source": [
        "### Library Import"
      ]
    },
    {
      "cell_type": "code",
      "execution_count": 187,
      "metadata": {
        "id": "bs4VHeZ7BgvK",
        "colab": {
          "base_uri": "https://localhost:8080/"
        },
        "outputId": "fa2e3b7f-697d-42e6-e636-1e41178aa522"
      },
      "outputs": [
        {
          "output_type": "stream",
          "name": "stdout",
          "text": [
            "File Exists! Carry on....\n",
            "File Exists! Carry on....\n"
          ]
        }
      ],
      "source": [
        "from google.colab import files\n",
        "import urllib.request\n",
        "import os\n",
        "import pandas as pd\n",
        "import numpy as np\n",
        "import cv2\n",
        "from google.colab.patches import cv2_imshow\n",
        "from PIL import Image, ImageFont, ImageDraw\n",
        "import sys\n",
        "import math\n",
        "import matplotlib.pyplot as plt\n",
        "\n",
        "# automatically uploads beamLibrary.xlsx from github repo (cannot work without this)\n",
        "if os.path.isfile('/content/beamLibrary.xlsx'):\n",
        "    print(\"File Exists! Carry on....\")\n",
        "else:\n",
        "    url = 'https://github.com/scarecrow021/Beam_Selector_Stress_Deformation/blob/main/beamLibrary.xlsx?raw=true'\n",
        "    urllib.request.urlretrieve(url, '/content/beamLibrary.xlsx')\n",
        "    print(\"File Uploaded!!\")\n",
        "\n",
        "# automatically uploads arial.ttffrom github repo (font file for result printing)\n",
        "if os.path.isfile('/content/arial.ttf'):\n",
        "    print(\"File Exists! Carry on....\")\n",
        "else:\n",
        "    url = 'https://github.com/scarecrow021/Beam_Selector_Stress_Deformation/blob/main/arial.ttf?raw=true'\n",
        "    urllib.request.urlretrieve(url, '/content/arial.ttf')\n",
        "    print(\"File Uploaded!!\")\n"
      ]
    },
    {
      "cell_type": "markdown",
      "metadata": {
        "id": "YxQAXHVMpNou"
      },
      "source": [
        "### Function Definitions\n"
      ]
    },
    {
      "cell_type": "markdown",
      "metadata": {
        "id": "qKKphFw0Kn1_"
      },
      "source": [
        "#### Deformation Limit Functions"
      ]
    },
    {
      "cell_type": "code",
      "source": [
        "## Deformation Limit Functions Definitions\n",
        "\n",
        "def FindDeformation(Iy):\n",
        "    if caseNumber == 1 :\n",
        "        _deform = (1000*force*lengthOfBeam**3) / (48*Iy*youngsModulus*10**9)\n",
        "    elif caseNumber == 2 :\n",
        "        _deform = (1000*force*lengthOfBeam**3) / (3*Iy*youngsModulus*10**9)\n",
        "    elif caseNumber == 3 :\n",
        "        _deform = (1000*force*lengthOfBeam**3) / (192*Iy*youngsModulus*10**9)\n",
        "    elif caseNumber == 4 :\n",
        "        _deform = (1000*torque*lengthOfBeam**2) / (2*Iy*youngsModulus*10**9)\n",
        "    elif caseNumber == 5 :\n",
        "        _deform = (1000*torque*lengthOfBeam**2) / (8*Iy*youngsModulus*10**9)\n",
        "    elif caseNumber == 6 :\n",
        "        _deform = (1000*force*length_a*(3*lengthOfBeam**2 - 4*length_a**2)) / (24*Iy*youngsModulus*10**9)\n",
        "    elif caseNumber == 7 :\n",
        "        _deform = (1000*force*length_b*math.sqrt((lengthOfBeam**2 - length_b**2)**3)) / (9*math.sqrt(3)*lengthOfBeam*Iy*youngsModulus*10**9)\n",
        "    elif caseNumber == 8 :\n",
        "        _deform = (1000*force*(lengthOfBeam - length_b)**2 * (3*lengthOfBeam - (lengthOfBeam - length_b))) / (6*Iy*youngsModulus*10**9)\n",
        "    elif caseNumber == 9 :\n",
        "        _deform = (1000*2*force*length_b**3 * (lengthOfBeam-length_b)**2) / (3*Iy*(youngsModulus*10**9)*(lengthOfBeam + 2*length_b)**2)\n",
        "    elif caseNumber == 10 :\n",
        "        _deform = (1000*torque*lengthOfBeam**2) / (9*math.sqrt(3)*Iy*youngsModulus*10**9)\n",
        "    elif caseNumber == 11 :\n",
        "        _deform = (1000*force*lengthOfBeam**4) / (8*Iy*youngsModulus*10**9)\n",
        "    elif caseNumber == 12 :\n",
        "        _deform = (1000*5*force*lengthOfBeam**4) / (384*Iy*youngsModulus*10**9)\n",
        "    elif caseNumber == 13 :\n",
        "        _deform = (1000*force*length_a**2 * (length_L + length_a)) / (3*Iy*youngsModulus*10**9)\n",
        "    elif caseNumber == 14 :\n",
        "        _deform = (1000*force*length_a*length_b*length_c*(2*length_a + length_b)) / (6*(length_a + length_b)*Iy*youngsModulus*10**9)\n",
        "    elif caseNumber == 15 :\n",
        "        _deform = (1000*force*lengthOfBeam**4) / (384*Iy*youngsModulus*10**9)\n",
        "    else:\n",
        "        _deform = -1\n",
        "    return _deform\n",
        "\n",
        "\n",
        "def DeformLooper(beamLib, IyColNum, _result, _yes = False):\n",
        "    for h in range(0,len(beamLib.index)):\n",
        "        Iy = beamLib.iat[h,IyColNum]/(100**4)\n",
        "        deform = FindDeformation(Iy)\n",
        "        if deform < deformationLimit:\n",
        "            if not _yes:\n",
        "                _result.append(beamLib.columns[0] + \" \" + str(beamLib.iat[h,1]) + \" ...  Deformation: \" + str(round(deform,2)) + \" mm.\")\n",
        "            else:\n",
        "                _result.append(beamLib.columns[0] + \" \" + str(beamLib.iat[h,0]) + \" ...  Deformation: \" + str(round(deform,2)) + \" mm.\")\n",
        "            break\n",
        "\n",
        "\n",
        "def Case_Deform_Call():\n",
        "    _result = []\n",
        "    text1 = \"You selected Case \" + str(caseNumber) + \" Deformation Limit\"\n",
        "    _result = [text1, \"The minimum required beam and the deformation are: \"] # Result String Array\n",
        "    for libNum in range(0,15):\n",
        "        beamLib = pd.read_excel('/content/beamLibrary.xlsx', libNum)\n",
        "        if libNum in [8,13,14]:\n",
        "            DeformLooper(beamLib, 5, _result, True)\n",
        "        elif libNum == 12:\n",
        "            DeformLooper(beamLib, 4, _result, True)   \n",
        "        elif libNum in [7,9,10,11]:\n",
        "            DeformLooper(beamLib, 3, _result, True)\n",
        "        elif libNum in range(0,7):\n",
        "            DeformLooper(beamLib, 6, _result)\n",
        "    return _result\n"
      ],
      "metadata": {
        "id": "SbeBfQBcCMNk"
      },
      "execution_count": 188,
      "outputs": []
    },
    {
      "cell_type": "markdown",
      "metadata": {
        "id": "L1kUzCArKf0Q"
      },
      "source": [
        "#### Stress Limit Functions"
      ]
    },
    {
      "cell_type": "code",
      "execution_count": 189,
      "metadata": {
        "id": "1pptGGOiM1Ev"
      },
      "outputs": [],
      "source": [
        "## Stress Limit Functions Definitions\n",
        "\n",
        "def FindBendingMoment():\n",
        "    if caseNumber == 1:\n",
        "        M = force*lengthOfBeam/4\n",
        "    elif caseNumber == 2:\n",
        "        M = force*lengthOfBeam\n",
        "    elif caseNumber == 3:\n",
        "        M = force*lengthOfBeam/8\n",
        "    elif caseNumber == 4:\n",
        "        M = torque\n",
        "    elif caseNumber == 5:\n",
        "        M = torque\n",
        "    elif caseNumber == 6:\n",
        "        M = force*length_a\n",
        "    elif caseNumber == 7:\n",
        "        M = force*(lengthOfBeam - length_b)*length_b/lengthOfBeam\n",
        "    elif caseNumber == 8:\n",
        "        M = force*(lengthOfBeam - length_b)\n",
        "    elif caseNumber == 9:\n",
        "        M = force*(lengthOfBeam - length_b)*length_b/(lengthOfBeam**2)\n",
        "    elif caseNumber == 10:\n",
        "        M = torque\n",
        "    elif caseNumber == 11:\n",
        "        M = (force*lengthOfBeam**2)/2\n",
        "    elif caseNumber == 12:\n",
        "        M = (force*lengthOfBeam**2)/8\n",
        "    elif caseNumber == 13:\n",
        "        M = force*length_a\n",
        "    elif caseNumber == 14:\n",
        "        M = force*length_a*length_b/(length_a + length_b)\n",
        "    elif caseNumber == 15:\n",
        "        M = (force*lengthOfBeam**2)/12\n",
        "    return M\n",
        "\n",
        "\n",
        "def FindStress(M, h, I):                         # Be careful ymax is not h/2 here as in Excel. That is why it is divided by 2 in the formula.\n",
        "    _stress = (M*(h/(2*1000)))/((I*10**-8)*10**6)\n",
        "    return _stress\n",
        "\n",
        "\n",
        "def StressLimitCheck(M, stressLimit, result, beamLib, Iy_columNum, _yes= False):\n",
        "    hDim_columNum=1\n",
        "    for h in range(0,len(beamLib.index)):\n",
        "        Stress = FindStress(M, beamLib.iat[h,hDim_columNum], beamLib.iat[h,Iy_columNum]) \n",
        "        if Stress < stressLimit:\n",
        "            if not _yes:\n",
        "                result.append(beamLib.columns[0] + \" \" + str(beamLib.iat[h,1]) + \" ...  Stress: \" + str(round(Stress,2)) + \" MPa.\")\n",
        "            else:\n",
        "                result.append(beamLib.columns[0] + \" \" + str(beamLib.iat[h,0]) + \" ...  Stress: \" + str(round(Stress,2)) + \" MPa.\")\n",
        "            break\n",
        "\n",
        "\n",
        "def StressLimitCheckLooper(result, stressLimit):\n",
        "    M = FindBendingMoment()\n",
        "    stressResArray = []\n",
        "    for libNum in range(0,15):\n",
        "        beamLib = pd.read_excel('/content/beamLibrary.xlsx', libNum)\n",
        "        if libNum in [8,13,14]:\n",
        "            StressLimitCheck(M, stressLimit, result, beamLib, 5, True)\n",
        "        elif libNum == 12:\n",
        "            StressLimitCheck(M, stressLimit, result, beamLib, 4, True)\n",
        "        elif libNum in [7,9,10,11]:\n",
        "            StressLimitCheck(M, stressLimit, result, beamLib, 3, True)\n",
        "        elif libNum in range(0,7):\n",
        "            StressLimitCheck(M, stressLimit, result, beamLib, 6, False)\n",
        "    return result\n",
        "\n",
        "\n",
        "\n",
        "\n",
        "def Case_Stress_Call():\n",
        "    _result = []\n",
        "    text1 = \"You selected Case \" + str(caseNumber) + \" Stress Limit\"\n",
        "    _result = [text1, \"The minimum required beam and the stress are: \"] # Result String Array\n",
        "    _result = StressLimitCheckLooper(_result, stressLimit)\n",
        "    \n",
        "    return _result"
      ]
    },
    {
      "cell_type": "code",
      "source": [
        "def StressArrayFiller(M, stressLimit, beamLib, Iy_columNum, _yes= False):\n",
        "    stressArr = np.empty(464)\n",
        "    hDim_columNum=1\n",
        "    for h in range(0,len(beamLib.index)):\n",
        "        Stress = FindStress(M, beamLib.iat[h,hDim_columNum], beamLib.iat[h,Iy_columNum])\n",
        "        stressArr[h] = Stress\n",
        "    return stressArr\n",
        "\n",
        "def FindMax():\n",
        "    _max = 0\n",
        "    for libNum in range(0,15):\n",
        "        beamLib = pd.read_excel('/content/beamLibrary.xlsx', libNum)\n",
        "        if libNum in [8,13,14]:\n",
        "            a =  len(beamLib.index)\n",
        "            _max = max(a,_max)\n",
        "        elif libNum == 12:\n",
        "            a =  len(beamLib.index)\n",
        "            _max = max(a,_max)\n",
        "        elif libNum in [7,9,10,11]:\n",
        "            a =  len(beamLib.index)\n",
        "            _max = max(a,_max)\n",
        "        elif libNum in range(0,7):\n",
        "            a =  len(beamLib.index)\n",
        "            _max = max(a,_max)\n",
        "    print(_max)\n",
        "\n",
        "def PlotStress():\n",
        "    M = FindBendingMoment()\n",
        "    stressResMat = np.zeros((1,464))\n",
        "    for libNum in range(0,15):\n",
        "        beamLib = pd.read_excel('/content/beamLibrary.xlsx', libNum)\n",
        "        if libNum in [8,13,14]:\n",
        "            stressRow = StressArrayFiller(M, stressLimit, beamLib, 5, True)\n",
        "            stressResMat = np.r_[stressResMat,[stressRow]] \n",
        "        elif libNum == 12:\n",
        "            stressRow = StressArrayFiller(M, stressLimit, beamLib, 4, True)\n",
        "            stressResMat = np.r_[stressResMat,[stressRow]]\n",
        "        elif libNum in [7,9,10,11]:\n",
        "            stressRow = StressArrayFiller(M, stressLimit, beamLib, 3, True)\n",
        "            stressResMat = np.r_[stressResMat,[stressRow]]\n",
        "        elif libNum in range(0,7):\n",
        "            stressRow = StressArrayFiller(M, stressLimit, beamLib, 6, False)\n",
        "            stressResMat = np.r_[stressResMat,[stressRow]]\n",
        "    return stressResMat"
      ],
      "metadata": {
        "id": "tOF-rLO55cMw"
      },
      "execution_count": 190,
      "outputs": []
    },
    {
      "cell_type": "markdown",
      "metadata": {
        "id": "wQp8nTL4p_HC"
      },
      "source": [
        "## Interface"
      ]
    },
    {
      "cell_type": "code",
      "execution_count": 191,
      "metadata": {
        "id": "45Tdo4wpogI2"
      },
      "outputs": [],
      "source": [
        "def CalculatorCaller():\n",
        "    if caseNumber in range(1,16):\n",
        "        if checkFor == \"Stress\":\n",
        "            _result = Case_Stress_Call()\n",
        "        elif checkFor == \"Deformation\":\n",
        "            _result = Case_Deform_Call()\n",
        "        else:\n",
        "            _result = \"INVALID\"\n",
        "    else:\n",
        "        _result = \"INVALID\"\n",
        "    return _result"
      ]
    },
    {
      "cell_type": "code",
      "source": [
        "# ## Calls Calculator\n",
        "# result = CalculatorCaller()\n",
        "# ## Result Beautification\n",
        "# # Empty White Picture Creation\n",
        "# whiteFrame = np.full((500, 500, 3), 255, dtype = np.uint8)\n",
        "# cv2.imwrite('/content/result.jpeg', whiteFrame)\n",
        "# # Result text insertion\n",
        "# title_text = \"*************** RESULT *************** \\n\"\n",
        "# resultImage = Image.open(\"/content/result.jpeg\")\n",
        "# for i in range(0,len(result)):\n",
        "#     title_text = title_text + result[i] + \"\\n\"\n",
        "# font = ImageFont.truetype(\"/content/arial.ttf\", 16)\n",
        "# image_editable = ImageDraw.Draw(resultImage)\n",
        "# image_editable.text((10,10), title_text, fill=(0, 0, 0), font = font)\n",
        "# resultImage.save(\"/content/result.jpeg\")\n",
        "# # Re-read image with opencv\n",
        "# image = cv2.imread(\"/content/result.jpeg\")\n",
        "stressMat = PlotStress()"
      ],
      "metadata": {
        "id": "wuPXD4ZoAR7x"
      },
      "execution_count": 192,
      "outputs": []
    },
    {
      "cell_type": "code",
      "source": [
        "stressMat = np.delete(stressMat, 0, 0)\n",
        "plt.matshow(stressMat);\n",
        "plt.colorbar()\n",
        "plt.show()"
      ],
      "metadata": {
        "id": "akRCoFvi5yvn"
      },
      "execution_count": null,
      "outputs": []
    },
    {
      "cell_type": "markdown",
      "metadata": {
        "id": "5vIvVh32UsVs"
      },
      "source": [
        "# **RESULT**"
      ]
    },
    {
      "cell_type": "code",
      "source": [
        "cv2_imshow(image)"
      ],
      "metadata": {
        "id": "B1In0pFDAKwY"
      },
      "execution_count": null,
      "outputs": []
    }
  ],
  "metadata": {
    "colab": {
      "collapsed_sections": [],
      "name": "Untitled0.ipynb",
      "provenance": [],
      "include_colab_link": true
    },
    "kernelspec": {
      "display_name": "Python 3",
      "name": "python3"
    },
    "language_info": {
      "name": "python"
    }
  },
  "nbformat": 4,
  "nbformat_minor": 0
}